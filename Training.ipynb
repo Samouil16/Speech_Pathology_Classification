{
 "cells": [
  {
   "cell_type": "raw",
   "source": [],
   "metadata": {
    "collapsed": false
   },
   "id": "c1203da0a4a7798b"
  },
  {
   "cell_type": "code",
   "execution_count": 1,
   "id": "initial_id",
   "metadata": {
    "collapsed": true,
    "ExecuteTime": {
     "end_time": "2024-10-08T19:43:46.617176Z",
     "start_time": "2024-10-08T19:43:25.219517400Z"
    }
   },
   "outputs": [
    {
     "name": "stderr",
     "output_type": "stream",
     "text": [
      "C:\\Users\\samou\\AppData\\Roaming\\Python\\Python36\\site-packages\\tensorflow\\python\\framework\\dtypes.py:523: FutureWarning: Passing (type, 1) or '1type' as a synonym of type is deprecated; in a future version of numpy, it will be understood as (type, (1,)) / '(1,)type'.\n",
      "  _np_qint8 = np.dtype([(\"qint8\", np.int8, 1)])\n",
      "C:\\Users\\samou\\AppData\\Roaming\\Python\\Python36\\site-packages\\tensorflow\\python\\framework\\dtypes.py:524: FutureWarning: Passing (type, 1) or '1type' as a synonym of type is deprecated; in a future version of numpy, it will be understood as (type, (1,)) / '(1,)type'.\n",
      "  _np_quint8 = np.dtype([(\"quint8\", np.uint8, 1)])\n",
      "C:\\Users\\samou\\AppData\\Roaming\\Python\\Python36\\site-packages\\tensorflow\\python\\framework\\dtypes.py:525: FutureWarning: Passing (type, 1) or '1type' as a synonym of type is deprecated; in a future version of numpy, it will be understood as (type, (1,)) / '(1,)type'.\n",
      "  _np_qint16 = np.dtype([(\"qint16\", np.int16, 1)])\n",
      "C:\\Users\\samou\\AppData\\Roaming\\Python\\Python36\\site-packages\\tensorflow\\python\\framework\\dtypes.py:526: FutureWarning: Passing (type, 1) or '1type' as a synonym of type is deprecated; in a future version of numpy, it will be understood as (type, (1,)) / '(1,)type'.\n",
      "  _np_quint16 = np.dtype([(\"quint16\", np.uint16, 1)])\n",
      "C:\\Users\\samou\\AppData\\Roaming\\Python\\Python36\\site-packages\\tensorflow\\python\\framework\\dtypes.py:527: FutureWarning: Passing (type, 1) or '1type' as a synonym of type is deprecated; in a future version of numpy, it will be understood as (type, (1,)) / '(1,)type'.\n",
      "  _np_qint32 = np.dtype([(\"qint32\", np.int32, 1)])\n",
      "C:\\Users\\samou\\AppData\\Roaming\\Python\\Python36\\site-packages\\tensorflow\\python\\framework\\dtypes.py:532: FutureWarning: Passing (type, 1) or '1type' as a synonym of type is deprecated; in a future version of numpy, it will be understood as (type, (1,)) / '(1,)type'.\n",
      "  np_resource = np.dtype([(\"resource\", np.ubyte, 1)])\n"
     ]
    },
    {
     "name": "stdout",
     "output_type": "stream",
     "text": [
      "Number of Classes: 4\n"
     ]
    },
    {
     "name": "stderr",
     "output_type": "stream",
     "text": [
      "Using TensorFlow backend.\n"
     ]
    },
    {
     "name": "stdout",
     "output_type": "stream",
     "text": [
      "Setting training date...\n",
      "Found 440 images belonging to 4 classes.\n",
      "Setting testing date...\n",
      "Found 704 images belonging to 4 classes.\n"
     ]
    }
   ],
   "source": [
    "#It will prompt you to give the name of the model\n",
    "#If the model doesn't exist it will create a new one\n",
    "\n",
    "import DysarthricSpeechVision as sv"
   ]
  },
  {
   "cell_type": "markdown",
   "source": [
    "Train function \n",
    "\n",
    "compiler:\n",
    "    1: Adam\n",
    "    2: RMSprop\n",
    "    3: SGD"
   ],
   "metadata": {
    "collapsed": false
   },
   "id": "2ed3328681414d6b"
  },
  {
   "cell_type": "markdown",
   "source": [
    "Train (Optimizer: RMSprop, learning rate: 0.1)"
   ],
   "metadata": {
    "collapsed": false
   },
   "id": "19f60ebdc2cd14c5"
  },
  {
   "cell_type": "code",
   "execution_count": null,
   "outputs": [],
   "source": [
    "sv.train(max_epoch=20,custom=True, lr=0.1, compiler=2)"
   ],
   "metadata": {
    "collapsed": false
   },
   "id": "d7a346fbeb3e3352"
  },
  {
   "cell_type": "markdown",
   "source": [
    "Train (optimizer: RMSprop, learning rate: 0.01)"
   ],
   "metadata": {
    "collapsed": false
   },
   "id": "234efa9a1f0cbc22"
  },
  {
   "cell_type": "code",
   "execution_count": null,
   "outputs": [],
   "source": [
    "sv.train(max_epoch=20, custom=True, lr=0.01, compiler=2)\n",
    "sv.det_curve()\n",
    "sv.create_Confusion_Matrix()"
   ],
   "metadata": {
    "collapsed": false
   },
   "id": "6a8bf50d568a1bf0"
  },
  {
   "cell_type": "markdown",
   "source": [
    "Train (Optimizer: RMSprop, learning rate: 0.001)"
   ],
   "metadata": {
    "collapsed": false
   },
   "id": "64a940f10f4ef04e"
  },
  {
   "cell_type": "code",
   "execution_count": null,
   "outputs": [],
   "source": [
    "sv.train(max_epoch=20, custom=True, lr=0.001, compiler=2)\n",
    "sv.det_curve()\n",
    "sv.create_Confusion_Matrix()"
   ],
   "metadata": {
    "collapsed": false
   },
   "id": "60fc2d4cbcbd6705"
  },
  {
   "cell_type": "markdown",
   "source": [
    "Train (Optimizer: RMSprop, learning rate: 0.0001)"
   ],
   "metadata": {
    "collapsed": false
   },
   "id": "2383bab7dc343d26"
  },
  {
   "cell_type": "code",
   "execution_count": null,
   "outputs": [],
   "source": [
    "sv.train(max_epoch=20, custom=True, lr=0.0001, compiler=2)\n",
    "sv.det_curve()\n",
    "sv.create_Confusion_Matrix()"
   ],
   "metadata": {
    "collapsed": false
   },
   "id": "ab3009bf44391278"
  },
  {
   "cell_type": "markdown",
   "source": [
    "Train (Optimizer: RMSprop, learning rate: 0.00001)"
   ],
   "metadata": {
    "collapsed": false
   },
   "id": "d6b9f763149d0d34"
  },
  {
   "cell_type": "code",
   "execution_count": null,
   "outputs": [],
   "source": [
    "sv.train(max_epoch=20, custom=True, lr=0.00001, compiler=2)\n",
    "sv.det_curve()\n",
    "sv.create_Confusion_Matrix()"
   ],
   "metadata": {
    "collapsed": false
   },
   "id": "e4287b56f148227e"
  },
  {
   "cell_type": "markdown",
   "source": [
    "Train (Optimizer: SGD, learning rate: 0.1)"
   ],
   "metadata": {
    "collapsed": false
   },
   "id": "dfcfb66b15fbdf3b"
  },
  {
   "cell_type": "code",
   "execution_count": null,
   "outputs": [],
   "source": [
    "sv.train(max_epoch=20, custom=True, lr=0.1, compiler=3)"
   ],
   "metadata": {
    "collapsed": false
   },
   "id": "20d4e191a45bba58"
  },
  {
   "cell_type": "markdown",
   "source": [
    "Train (Optimizer: SGD, learning rate: 0.01)"
   ],
   "metadata": {
    "collapsed": false
   },
   "id": "a0b60a2e635663e6"
  },
  {
   "cell_type": "code",
   "execution_count": null,
   "outputs": [],
   "source": [
    "sv.train(max_epoch=20, custom=True, lr=0.01, compiler=3)\n",
    "sv.det_curve()\n",
    "sv.create_Confusion_Matrix()"
   ],
   "metadata": {
    "collapsed": false
   },
   "id": "86f82a892ae89612"
  },
  {
   "cell_type": "markdown",
   "source": [
    "Train (Optimizer: SGD, learning rate: 0.001)"
   ],
   "metadata": {
    "collapsed": false
   },
   "id": "a1d93282f03834e8"
  },
  {
   "cell_type": "code",
   "execution_count": 2,
   "outputs": [
    {
     "name": "stdout",
     "output_type": "stream",
     "text": [
      "=================================================\n",
      "_________________________________________________________________\n",
      "Layer (type)                 Output Shape              Param #   \n",
      "=================================================================\n",
      "conv2d (Conv2D)              (None, 148, 148, 32)      896       \n",
      "_________________________________________________________________\n",
      "spatial_dropout2d (SpatialDr (None, 148, 148, 32)      0         \n",
      "_________________________________________________________________\n",
      "conv2d_1 (Conv2D)            (None, 146, 146, 32)      9248      \n",
      "_________________________________________________________________\n",
      "max_pooling2d (MaxPooling2D) (None, 73, 73, 32)        0         \n",
      "_________________________________________________________________\n",
      "conv2d_2 (Conv2D)            (None, 71, 71, 64)        18496     \n",
      "_________________________________________________________________\n",
      "spatial_dropout2d_1 (Spatial (None, 71, 71, 64)        0         \n",
      "_________________________________________________________________\n",
      "conv2d_3 (Conv2D)            (None, 69, 69, 64)        36928     \n",
      "_________________________________________________________________\n",
      "max_pooling2d_1 (MaxPooling2 (None, 34, 34, 64)        0         \n",
      "_________________________________________________________________\n",
      "conv2d_4 (Conv2D)            (None, 32, 32, 128)       73856     \n",
      "_________________________________________________________________\n",
      "spatial_dropout2d_2 (Spatial (None, 32, 32, 128)       0         \n",
      "_________________________________________________________________\n",
      "conv2d_5 (Conv2D)            (None, 30, 30, 128)       147584    \n",
      "_________________________________________________________________\n",
      "max_pooling2d_2 (MaxPooling2 (None, 15, 15, 128)       0         \n",
      "_________________________________________________________________\n",
      "conv2d_6 (Conv2D)            (None, 13, 13, 256)       295168    \n",
      "_________________________________________________________________\n",
      "spatial_dropout2d_3 (Spatial (None, 13, 13, 256)       0         \n",
      "_________________________________________________________________\n",
      "conv2d_7 (Conv2D)            (None, 11, 11, 256)       590080    \n",
      "_________________________________________________________________\n",
      "max_pooling2d_3 (MaxPooling2 (None, 5, 5, 256)         0         \n",
      "_________________________________________________________________\n",
      "dropout (Dropout)            (None, 5, 5, 256)         0         \n",
      "_________________________________________________________________\n",
      "flatten (Flatten)            (None, 6400)              0         \n",
      "_________________________________________________________________\n",
      "dense (Dense)                (None, 4)                 25604     \n",
      "=================================================================\n",
      "Total params: 1,197,860\n",
      "Trainable params: 1,197,860\n",
      "Non-trainable params: 0\n",
      "_________________________________________________________________\n",
      "CNN is created\n",
      "Epoch 1/1\n",
      "7/6 [==============================] - 73s 10s/step - loss: 1.3904 - acc: 0.2282 - val_loss: 1.3865 - val_acc: 0.2500\n",
      "Epoch:  1\n",
      "Epoch 1/1\n",
      "7/6 [==============================] - 78s 11s/step - loss: 1.3881 - acc: 0.2349 - val_loss: 1.3865 - val_acc: 0.2500\n",
      "Epoch:  2\n",
      "Epoch 1/1\n",
      "7/6 [==============================] - 80s 11s/step - loss: 1.3909 - acc: 0.2036 - val_loss: 1.3865 - val_acc: 0.2500\n",
      "Epoch:  3\n",
      "Epoch 1/1\n",
      "7/6 [==============================] - 83s 12s/step - loss: 1.3904 - acc: 0.2371 - val_loss: 1.3865 - val_acc: 0.2500\n",
      "Epoch:  4\n",
      "Epoch 1/1\n",
      "7/6 [==============================] - 81s 12s/step - loss: 1.3860 - acc: 0.2617 - val_loss: 1.3865 - val_acc: 0.2500\n",
      "Epoch:  5\n",
      "Epoch 1/1\n",
      "7/6 [==============================] - 82s 12s/step - loss: 1.3875 - acc: 0.2466 - val_loss: 1.3865 - val_acc: 0.2500\n",
      "Epoch:  6\n",
      "Epoch 1/1\n",
      "7/6 [==============================] - 83s 12s/step - loss: 1.3878 - acc: 0.2855 - val_loss: 1.3865 - val_acc: 0.2500\n",
      "Epoch:  7\n",
      "Epoch 1/1\n",
      "7/6 [==============================] - 82s 12s/step - loss: 1.3873 - acc: 0.2413 - val_loss: 1.3865 - val_acc: 0.2500\n",
      "Epoch:  8\n",
      "Epoch 1/1\n",
      "7/6 [==============================] - 83s 12s/step - loss: 1.3847 - acc: 0.2617 - val_loss: 1.3866 - val_acc: 0.2500\n",
      "Epoch:  9\n",
      "Epoch 1/1\n",
      "7/6 [==============================] - 84s 12s/step - loss: 1.3852 - acc: 0.2634 - val_loss: 1.3866 - val_acc: 0.2500\n",
      "Epoch:  10\n",
      "Epoch 1/1\n",
      "7/6 [==============================] - 84s 12s/step - loss: 1.3831 - acc: 0.2738 - val_loss: 1.3866 - val_acc: 0.2500\n",
      "Epoch:  11\n",
      "Epoch 1/1\n",
      "7/6 [==============================] - 85s 12s/step - loss: 1.3791 - acc: 0.3356 - val_loss: 1.3866 - val_acc: 0.2486\n",
      "Epoch:  12\n",
      "Epoch 1/1\n",
      "7/6 [==============================] - 87s 12s/step - loss: 1.3828 - acc: 0.2564 - val_loss: 1.3866 - val_acc: 0.2372\n",
      "Epoch:  13\n",
      "Epoch 1/1\n",
      "7/6 [==============================] - 85s 12s/step - loss: 1.3837 - acc: 0.2659 - val_loss: 1.3866 - val_acc: 0.1847\n",
      "Epoch:  14\n",
      "Epoch 1/1\n",
      "7/6 [==============================] - 87s 12s/step - loss: 1.3798 - acc: 0.2959 - val_loss: 1.3867 - val_acc: 0.1278\n",
      "Epoch:  15\n",
      "Epoch 1/1\n",
      "7/6 [==============================] - 86s 12s/step - loss: 1.3790 - acc: 0.3001 - val_loss: 1.3867 - val_acc: 0.0994\n",
      "Epoch:  16\n",
      "Epoch 1/1\n",
      "7/6 [==============================] - 87s 12s/step - loss: 1.3801 - acc: 0.2715 - val_loss: 1.3867 - val_acc: 0.0810\n",
      "Epoch:  17\n",
      "Epoch 1/1\n",
      "7/6 [==============================] - 87s 12s/step - loss: 1.3784 - acc: 0.3029 - val_loss: 1.3867 - val_acc: 0.0795\n",
      "Epoch:  18\n",
      "Epoch 1/1\n",
      "7/6 [==============================] - 89s 13s/step - loss: 1.3761 - acc: 0.2875 - val_loss: 1.3868 - val_acc: 0.1009\n",
      "Epoch:  19\n",
      "Epoch 1/1\n",
      "7/6 [==============================] - 86s 12s/step - loss: 1.3785 - acc: 0.2573 - val_loss: 1.3868 - val_acc: 0.1619\n",
      "Epoch:  20\n",
      "Epoch 1/1\n",
      "7/6 [==============================] - 87s 12s/step - loss: 1.3767 - acc: 0.2889 - val_loss: 1.3868 - val_acc: 0.1889\n",
      "[0.72964015 0.72964015 0.72964015 0.72964015 0.72964015 0.72964015\n",
      " 0.72964015 0.72964015 0.72964015 0.72964015 0.72964015 0.72964015\n",
      " 0.72964015 0.72964015 0.72964015 0.72964015 0.72964015 0.72964015\n",
      " 0.72964015 0.72964015 0.72964015 0.72964015 0.72964015 0.72964015\n",
      " 0.72964015 0.72964015 1.         1.         1.         1.\n",
      " 1.         1.         1.         1.         1.         1.\n",
      " 1.         1.         1.         1.         1.         1.\n",
      " 1.         1.         1.         1.         1.         1.\n",
      " 1.         1.         1.         1.         1.         1.\n",
      " 1.         1.         1.         1.         1.         1.\n",
      " 1.         1.         1.         1.         1.         1.\n",
      " 1.         1.         1.         1.         1.         1.\n",
      " 1.         1.         1.         1.         1.         1.\n",
      " 1.         1.         1.         1.         1.         1.\n",
      " 1.         1.         1.         1.         1.         1.\n",
      " 1.         1.         1.         1.         1.         1.\n",
      " 1.         1.         1.         1.        ]\n",
      "[0.18892045 0.18892045 0.18892045 0.18892045 0.18892045 0.18892045\n",
      " 0.18892045 0.18892045 0.18892045 0.18892045 0.18892045 0.18892045\n",
      " 0.18892045 0.18892045 0.18892045 0.18892045 0.18892045 0.18892045\n",
      " 0.18892045 0.18892045 0.18892045 0.18892045 0.18892045 0.18892045\n",
      " 0.18892045 0.18892045 0.         0.         0.         0.\n",
      " 0.         0.         0.         0.         0.         0.\n",
      " 0.         0.         0.         0.         0.         0.\n",
      " 0.         0.         0.         0.         0.         0.\n",
      " 0.         0.         0.         0.         0.         0.\n",
      " 0.         0.         0.         0.         0.         0.\n",
      " 0.         0.         0.         0.         0.         0.\n",
      " 0.         0.         0.         0.         0.         0.\n",
      " 0.         0.         0.         0.         0.         0.\n",
      " 0.         0.         0.         0.         0.         0.\n",
      " 0.         0.         0.         0.         0.         0.\n",
      " 0.         0.         0.         0.         0.         0.\n",
      " 0.         0.         0.         0.        ]\n",
      "[0.0, 0.0, 0.0, 0.0, 0.0, 0.0, 0.0, 0.0, 0.0, 0.0, 0.0, 0.0, 0.0, 0.0, 0.0, 0.0, 0.0, 0.0, 0.0, 0.0, 0.0, 0.0, 0.0, 0.0, 0.0, 0.0, 1.0, 1.0, 1.0, 1.0, 1.0, 1.0, 1.0, 1.0, 1.0, 1.0, 1.0, 1.0, 1.0, 1.0, 1.0, 1.0, 1.0, 1.0, 1.0, 1.0, 1.0, 1.0, 1.0, 1.0, 1.0, 1.0, 1.0, 1.0, 1.0, 1.0, 1.0, 1.0, 1.0, 1.0, 1.0, 1.0, 1.0, 1.0, 1.0, 1.0, 1.0, 1.0, 1.0, 1.0, 1.0, 1.0, 1.0, 1.0, 1.0, 1.0, 1.0, 1.0, 1.0, 1.0, 1.0, 1.0, 1.0, 1.0, 1.0, 1.0, 1.0, 1.0, 1.0, 1.0, 1.0, 1.0, 1.0, 1.0, 1.0, 1.0, 1.0, 1.0, 1.0, 1.0]\n",
      "[1.0, 1.0, 1.0, 1.0, 1.0, 1.0, 1.0, 1.0, 1.0, 1.0, 1.0, 1.0, 1.0, 1.0, 1.0, 1.0, 1.0, 1.0, 1.0, 1.0, 1.0, 1.0, 1.0, 1.0, 1.0, 1.0, 0.0, 0.0, 0.0, 0.0, 0.0, 0.0, 0.0, 0.0, 0.0, 0.0, 0.0, 0.0, 0.0, 0.0, 0.0, 0.0, 0.0, 0.0, 0.0, 0.0, 0.0, 0.0, 0.0, 0.0, 0.0, 0.0, 0.0, 0.0, 0.0, 0.0, 0.0, 0.0, 0.0, 0.0, 0.0, 0.0, 0.0, 0.0, 0.0, 0.0, 0.0, 0.0, 0.0, 0.0, 0.0, 0.0, 0.0, 0.0, 0.0, 0.0, 0.0, 0.0, 0.0, 0.0, 0.0, 0.0, 0.0, 0.0, 0.0, 0.0, 0.0, 0.0, 0.0, 0.0, 0.0, 0.0, 0.0, 0.0, 0.0, 0.0, 0.0, 0.0, 0.0, 0.0]\n"
     ]
    },
    {
     "data": {
      "text/plain": "<Figure size 432x288 with 1 Axes>",
      "image/png": "[encoded data removed]"
     },
     "metadata": {
      "needs_background": "light"
     },
     "output_type": "display_data"
    },
    {
     "data": {
      "text/plain": "array([[  0, 156,  20,   0],\n       [ 67,  60,  49,   0],\n       [ 23,  80,  73,   0],\n       [  4,  94,  78,   0]], dtype=int64)"
     },
     "execution_count": 2,
     "metadata": {},
     "output_type": "execute_result"
    },
    {
     "data": {
      "text/plain": "<Figure size 360x288 with 2 Axes>",
      "image/png": "[encoded data removed]"
     },
     "metadata": {
      "needs_background": "light"
     },
     "output_type": "display_data"
    }
   ],
   "source": [
    "sv.train(max_epoch=20, custom=True, lr=0.001, compiler=3)\n",
    "sv.det_curve()\n",
    "sv.create_Confusion_Matrix()"
   ],
   "metadata": {
    "collapsed": false,
    "ExecuteTime": {
     "end_time": "2024-09-30T04:47:07.990563700Z",
     "start_time": "2024-09-30T04:16:40.355381700Z"
    }
   },
   "id": "8bbd91bf024c389"
  },
  {
   "cell_type": "markdown",
   "source": [
    "Train (Optimizer: SGD, learning rate: 0.0001)"
   ],
   "metadata": {
    "collapsed": false
   },
   "id": "3c1fcbbe5c2918a4"
  },
  {
   "cell_type": "code",
   "execution_count": null,
   "outputs": [],
   "source": [
    "sv.train(max_epoch=20, custom=True, lr=0.0001, compiler=3)\n",
    "sv.det_curve()\n",
    "sv.create_Confusion_Matrix()"
   ],
   "metadata": {
    "collapsed": false
   },
   "id": "42c8b1fc7eedcb75"
  },
  {
   "cell_type": "markdown",
   "source": [
    "Train (Optimizer: SGD, learning rate: 0.00001)"
   ],
   "metadata": {
    "collapsed": false
   },
   "id": "b058df7965c8ddbc"
  },
  {
   "cell_type": "code",
   "execution_count": null,
   "outputs": [],
   "source": [
    "sv.train(max_epoch=20, custom=True, lr=0.00001, compiler=3)\n",
    "sv.det_curve()\n",
    "sv.create_Confusion_Matrix()"
   ],
   "metadata": {
    "collapsed": false
   },
   "id": "55781c249b3b8c0e"
  },
  {
   "cell_type": "markdown",
   "source": [
    "Train (Optimizer: Adam, learning rate: 0.1)"
   ],
   "metadata": {
    "collapsed": false
   },
   "id": "5f0abb3fcaf256df"
  },
  {
   "cell_type": "code",
   "execution_count": null,
   "outputs": [],
   "source": [
    "sv.train(max_epoch=20, custom=True, lr=0.1, compiler=1)\n",
    "sv.det_curve()\n",
    "sv.create_Confusion_Matrix()"
   ],
   "metadata": {
    "collapsed": false
   },
   "id": "3911cc60b26f55e9"
  },
  {
   "cell_type": "markdown",
   "source": [
    "Train (Optimizer: Adam, learning rate: 0.01)"
   ],
   "metadata": {
    "collapsed": false
   },
   "id": "37d68313b270b902"
  },
  {
   "cell_type": "code",
   "execution_count": null,
   "outputs": [],
   "source": [
    "sv.train(max_epoch=20, custom=True, lr=0.01, compiler=1)\n",
    "sv.det_curve()\n",
    "sv.create_Confusion_Matrix()"
   ],
   "metadata": {
    "collapsed": false
   },
   "id": "632f07c9994c8d0a"
  },
  {
   "cell_type": "markdown",
   "source": [
    "Train (Optimizer: Adam, learning rate: 0.001)"
   ],
   "metadata": {
    "collapsed": false
   },
   "id": "81fab2a2c29a5827"
  },
  {
   "cell_type": "code",
   "execution_count": 2,
   "outputs": [
    {
     "name": "stdout",
     "output_type": "stream",
     "text": [
      "=================================================\n",
      "CNN is loaded\n",
      "Epoch 1/1\n",
      "7/6 [==============================] - 83s 12s/step - loss: 1.1290 - acc: 0.6007 - val_loss: 1.2236 - val_acc: 0.5412\n",
      "Epoch:  22\n",
      "Epoch 1/1\n",
      "7/6 [==============================] - 83s 12s/step - loss: 1.1382 - acc: 0.5330 - val_loss: 1.1182 - val_acc: 0.5710\n",
      "1.0   0.0\n",
      "1.0   0.0\n",
      "1.0   0.0\n",
      "1.0   0.0\n",
      "1.0   0.0\n",
      "1.0   0.0\n",
      "1.0   0.0\n",
      "1.0   0.0\n",
      "1.0   0.0\n",
      "1.0   0.0\n",
      "1.0   0.0\n",
      "1.0   0.0\n",
      "1.0   0.0\n",
      "1.0   0.0\n",
      "1.0   0.0\n",
      "1.0   0.0\n",
      "1.0   0.0\n",
      "1.0   0.0\n",
      "1.0   0.0\n",
      "1.0   0.0\n",
      "1.0   0.0\n",
      "1.0   0.0\n",
      "1.0   0.0\n",
      "1.0   0.0\n",
      "1.0   0.0\n",
      "1.0   0.0\n",
      "1.0   0.0\n",
      "1.0   0.0\n",
      "1.0   0.0\n",
      "1.0   0.0\n",
      "1.0   0.0\n",
      "0.9966887417218542   0.0\n",
      "0.9801324503311258   0.0\n",
      "0.8410596026490066   0.004975124378109594\n",
      "0.6158940397350994   0.034825870646766184\n",
      "0.4701986754966887   0.05721393034825877\n",
      "0.3675496688741721   0.10945273631840796\n",
      "0.3178807947019867   0.13930348258706474\n",
      "0.2682119205298013   0.18159203980099511\n",
      "0.18874172185430463   0.2388059701492539\n",
      "0.1390728476821192   0.2960199004975125\n",
      "0.09933774834437085   0.3358208955223881\n",
      "0.076158940397351   0.38805970149253743\n",
      "0.05629139072847682   0.435323383084577\n",
      "0.046357615894039736   0.4800995024875622\n",
      "0.03311258278145695   0.5348258706467662\n",
      "0.026490066225165563   0.5895522388059702\n",
      "0.01986754966887417   0.6343283582089552\n",
      "0.013245033112582781   0.6592039800995025\n",
      "0.0033112582781456954   0.6865671641791046\n",
      "0.0033112582781456954   0.7238805970149254\n",
      "0.0   0.7512437810945273\n",
      "0.0   0.7661691542288557\n",
      "0.0   0.7910447761194029\n",
      "0.0   0.8134328358208954\n",
      "0.0   0.8283582089552238\n",
      "0.0   0.8457711442786069\n",
      "0.0   0.8606965174129353\n",
      "0.0   0.8706467661691543\n",
      "0.0   0.8830845771144279\n",
      "0.0   0.8930348258706469\n",
      "0.0   0.8955223880597014\n",
      "0.0   0.9029850746268656\n",
      "0.0   0.907960199004975\n",
      "0.0   0.9203980099502488\n",
      "0.0   0.9303482587064676\n",
      "0.0   0.9328358208955224\n",
      "0.0   0.9402985074626866\n",
      "0.0   0.9527363184079602\n",
      "0.0   0.962686567164179\n",
      "0.0   0.9651741293532338\n",
      "0.0   0.9701492537313432\n",
      "0.0   0.9701492537313432\n",
      "0.0   0.9776119402985074\n",
      "0.0   0.9800995024875622\n",
      "0.0   0.982587064676617\n",
      "0.0   0.9850746268656716\n",
      "0.0   0.9875621890547264\n",
      "0.0   0.9925373134328358\n",
      "0.0   0.9925373134328358\n",
      "0.0   0.9950248756218906\n",
      "0.0   0.9950248756218906\n",
      "0.0   0.9950248756218906\n",
      "0.0   0.9950248756218906\n",
      "0.0   0.9975124378109452\n",
      "0.0   0.9975124378109452\n",
      "0.0   0.9975124378109452\n",
      "0.0   1.0\n",
      "0.0   1.0\n",
      "0.0   1.0\n",
      "0.0   1.0\n",
      "0.0   1.0\n",
      "0.0   1.0\n",
      "0.0   1.0\n",
      "0.0   1.0\n",
      "0.0   1.0\n",
      "0.0   1.0\n",
      "0.0   1.0\n",
      "0.0   1.0\n",
      "0.0   1.0\n",
      "EER:  0.0\n",
      "index 39\n",
      "minDCF:  0.7636972422654935\n"
     ]
    },
    {
     "data": {
      "text/plain": "<Figure size 432x288 with 1 Axes>",
      "image/png": "[encoded data removed]"
     },
     "metadata": {
      "needs_background": "light"
     },
     "output_type": "display_data"
    },
    {
     "data": {
      "text/plain": "array([[131,  10,  35,   0],\n       [  0, 117,  59,   0],\n       [ 14,   8, 154,   0],\n       [ 80,   0,  96,   0]], dtype=int64)"
     },
     "execution_count": 2,
     "metadata": {},
     "output_type": "execute_result"
    },
    {
     "data": {
      "text/plain": "<Figure size 360x288 with 2 Axes>",
      "image/png": "[encoded data removed]"
     },
     "metadata": {
      "needs_background": "light"
     },
     "output_type": "display_data"
    }
   ],
   "source": [
    "sv.train(max_epoch=20, custom=True, lr=0.001, compiler=1)\n",
    "sv.det_curve()\n",
    "sv.create_Confusion_Matrix()"
   ],
   "metadata": {
    "collapsed": false,
    "ExecuteTime": {
     "end_time": "2024-10-05T21:09:59.271079600Z",
     "start_time": "2024-10-05T21:06:12.695518500Z"
    }
   },
   "id": "96ab8b0c0e4cb0b6"
  },
  {
   "cell_type": "markdown",
   "source": [
    "Train (Optimizer: Adam, learning rate: 0.0001)"
   ],
   "metadata": {
    "collapsed": false
   },
   "id": "e110a3547abdbf27"
  },
  {
   "cell_type": "code",
   "execution_count": null,
   "outputs": [],
   "source": [
    "sv.train(max_epoch=20, custom=True, lr=0.0001, compiler=1)\n",
    "sv.det_curve()\n",
    "sv.create_Confusion_Matrix()"
   ],
   "metadata": {
    "collapsed": false
   },
   "id": "3f1691fd0ababb7e"
  },
  {
   "cell_type": "markdown",
   "source": [
    "Train (Optimizer: Adam, learning rate: 0.00001)"
   ],
   "metadata": {
    "collapsed": false
   },
   "id": "ca3770b84b23dd49"
  },
  {
   "cell_type": "code",
   "execution_count": null,
   "outputs": [],
   "source": [
    "sv.train(max_epoch=20, custom=True, lr=0.00001, compiler=1)\n",
    "sv.det_curve()\n",
    "sv.create_Confusion_Matrix()"
   ],
   "metadata": {
    "collapsed": false
   },
   "id": "e04529f6360c3c83"
  },
  {
   "cell_type": "markdown",
   "source": [
    "Long Test"
   ],
   "metadata": {
    "collapsed": false
   },
   "id": "a7b8ad7ff6355d6c"
  },
  {
   "cell_type": "code",
   "execution_count": 35,
   "outputs": [
    {
     "name": "stdout",
     "output_type": "stream",
     "text": [
      "=================================================\n",
      "CNN is loaded\n",
      "Epoch 1/1\n",
      "7/6 [==============================] - 77s 11s/step - loss: 0.5891 - acc: 0.7701 - val_loss: 0.4936 - val_acc: 0.7884\n",
      "Epoch:  252\n",
      "Epoch 1/1\n",
      "7/6 [==============================] - 79s 11s/step - loss: 0.5205 - acc: 0.8084 - val_loss: 0.4203 - val_acc: 0.8793\n",
      "Epoch:  253\n",
      "Epoch 1/1\n",
      "7/6 [==============================] - 83s 12s/step - loss: 0.5121 - acc: 0.7987 - val_loss: 0.3738 - val_acc: 0.8892\n",
      "Epoch:  254\n",
      "Epoch 1/1\n",
      "7/6 [==============================] - 84s 12s/step - loss: 0.5468 - acc: 0.7939 - val_loss: 0.3915 - val_acc: 0.8807\n",
      "Epoch:  255\n",
      "Epoch 1/1\n",
      "7/6 [==============================] - 82s 12s/step - loss: 0.5024 - acc: 0.8020 - val_loss: 0.4656 - val_acc: 0.8423\n",
      "Epoch:  256\n",
      "Epoch 1/1\n",
      "7/6 [==============================] - 84s 12s/step - loss: 0.5796 - acc: 0.7766 - val_loss: 0.4683 - val_acc: 0.8750\n",
      "Epoch:  257\n",
      "Epoch 1/1\n",
      "7/6 [==============================] - 85s 12s/step - loss: 0.5597 - acc: 0.7707 - val_loss: 0.4316 - val_acc: 0.8665\n",
      "Epoch:  258\n",
      "Epoch 1/1\n",
      "7/6 [==============================] - 83s 12s/step - loss: 0.5337 - acc: 0.8062 - val_loss: 0.3980 - val_acc: 0.8778\n",
      "Epoch:  259\n",
      "Epoch 1/1\n",
      "7/6 [==============================] - 86s 12s/step - loss: 0.5536 - acc: 0.7855 - val_loss: 0.3887 - val_acc: 0.8977\n",
      "Epoch:  260\n",
      "Epoch 1/1\n",
      "7/6 [==============================] - 85s 12s/step - loss: 0.5271 - acc: 0.8138 - val_loss: 0.5294 - val_acc: 0.8935\n",
      "Epoch:  261\n",
      "Epoch 1/1\n",
      "7/6 [==============================] - 85s 12s/step - loss: 0.4747 - acc: 0.8051 - val_loss: 0.4223 - val_acc: 0.8594\n",
      "Epoch:  262\n",
      "Epoch 1/1\n",
      "7/6 [==============================] - 86s 12s/step - loss: 0.4720 - acc: 0.8261 - val_loss: 0.3435 - val_acc: 0.8707\n",
      "Epoch:  263\n",
      "Epoch 1/1\n",
      "7/6 [==============================] - 85s 12s/step - loss: 0.5889 - acc: 0.7782 - val_loss: 0.3776 - val_acc: 0.9091\n",
      "Epoch:  264\n",
      "Epoch 1/1\n",
      "7/6 [==============================] - 86s 12s/step - loss: 0.5130 - acc: 0.8098 - val_loss: 0.3631 - val_acc: 0.8920\n",
      "Epoch:  265\n",
      "Epoch 1/1\n",
      "7/6 [==============================] - 86s 12s/step - loss: 0.4946 - acc: 0.8227 - val_loss: 0.4183 - val_acc: 0.8736\n",
      "Epoch:  266\n",
      "Epoch 1/1\n",
      "7/6 [==============================] - 85s 12s/step - loss: 0.5561 - acc: 0.7746 - val_loss: 0.4964 - val_acc: 0.8665\n",
      "Epoch:  267\n",
      "Epoch 1/1\n",
      "7/6 [==============================] - 82s 12s/step - loss: 0.5205 - acc: 0.8006 - val_loss: 0.4453 - val_acc: 0.8750\n",
      "Epoch:  268\n",
      "Epoch 1/1\n",
      "7/6 [==============================] - 85s 12s/step - loss: 0.5099 - acc: 0.7855 - val_loss: 0.3841 - val_acc: 0.8665\n",
      "Epoch:  269\n",
      "Epoch 1/1\n",
      "7/6 [==============================] - 85s 12s/step - loss: 0.5201 - acc: 0.7998 - val_loss: 0.3847 - val_acc: 0.8878\n",
      "Epoch:  270\n",
      "Epoch 1/1\n",
      "7/6 [==============================] - 86s 12s/step - loss: 0.5247 - acc: 0.8118 - val_loss: 0.4033 - val_acc: 0.8991\n",
      "Epoch:  271\n",
      "Epoch 1/1\n",
      "7/6 [==============================] - 86s 12s/step - loss: 0.5130 - acc: 0.7945 - val_loss: 0.3839 - val_acc: 0.8778\n",
      "Epoch:  272\n",
      "Epoch 1/1\n",
      "7/6 [==============================] - 85s 12s/step - loss: 0.4707 - acc: 0.8152 - val_loss: 0.3944 - val_acc: 0.8764\n",
      "Epoch:  273\n",
      "Epoch 1/1\n",
      "7/6 [==============================] - 86s 12s/step - loss: 0.4824 - acc: 0.8017 - val_loss: 0.3748 - val_acc: 0.8807\n",
      "Epoch:  274\n",
      "Epoch 1/1\n",
      "7/6 [==============================] - 83s 12s/step - loss: 0.4848 - acc: 0.8065 - val_loss: 0.4152 - val_acc: 0.8651\n",
      "Epoch:  275\n",
      "Epoch 1/1\n",
      "7/6 [==============================] - 86s 12s/step - loss: 0.5198 - acc: 0.7847 - val_loss: 0.3916 - val_acc: 0.8835\n",
      "Epoch:  276\n",
      "Epoch 1/1\n",
      "7/6 [==============================] - 85s 12s/step - loss: 0.5205 - acc: 0.7880 - val_loss: 0.3613 - val_acc: 0.8807\n",
      "Epoch:  277\n",
      "Epoch 1/1\n",
      "7/6 [==============================] - 85s 12s/step - loss: 0.4437 - acc: 0.8070 - val_loss: 0.3430 - val_acc: 0.8864\n",
      "Epoch:  278\n",
      "Epoch 1/1\n",
      "7/6 [==============================] - 84s 12s/step - loss: 0.4832 - acc: 0.8115 - val_loss: 0.3866 - val_acc: 0.8849\n",
      "Epoch:  279\n",
      "Epoch 1/1\n",
      "7/6 [==============================] - 83s 12s/step - loss: 0.4896 - acc: 0.8238 - val_loss: 0.3895 - val_acc: 0.8835\n",
      "Epoch:  280\n",
      "Epoch 1/1\n",
      "7/6 [==============================] - 85s 12s/step - loss: 0.4484 - acc: 0.8400 - val_loss: 0.3539 - val_acc: 0.8906\n",
      "Epoch:  281\n",
      "Epoch 1/1\n",
      "7/6 [==============================] - 84s 12s/step - loss: 0.4853 - acc: 0.8182 - val_loss: 0.4054 - val_acc: 0.8835\n",
      "Epoch:  282\n",
      "Epoch 1/1\n",
      "7/6 [==============================] - 85s 12s/step - loss: 0.5262 - acc: 0.8029 - val_loss: 0.4516 - val_acc: 0.8565\n",
      "Epoch:  283\n",
      "Epoch 1/1\n",
      "7/6 [==============================] - 84s 12s/step - loss: 0.5296 - acc: 0.8001 - val_loss: 0.4533 - val_acc: 0.8736\n",
      "Epoch:  284\n",
      "Epoch 1/1\n",
      "7/6 [==============================] - 87s 12s/step - loss: 0.4625 - acc: 0.8082 - val_loss: 0.3846 - val_acc: 0.8864\n",
      "Epoch:  285\n",
      "Epoch 1/1\n",
      "7/6 [==============================] - 82s 12s/step - loss: 0.4603 - acc: 0.8392 - val_loss: 0.3210 - val_acc: 0.8864\n",
      "Epoch:  286\n",
      "Epoch 1/1\n",
      "7/6 [==============================] - 86s 12s/step - loss: 0.5266 - acc: 0.7992 - val_loss: 0.3547 - val_acc: 0.8821\n",
      "Epoch:  287\n",
      "Epoch 1/1\n",
      "7/6 [==============================] - 86s 12s/step - loss: 0.4817 - acc: 0.7922 - val_loss: 0.4190 - val_acc: 0.8835\n",
      "Epoch:  288\n",
      "Epoch 1/1\n",
      "7/6 [==============================] - 83s 12s/step - loss: 0.5227 - acc: 0.8098 - val_loss: 0.4221 - val_acc: 0.8963\n",
      "Epoch:  289\n",
      "Epoch 1/1\n",
      "7/6 [==============================] - 83s 12s/step - loss: 0.5509 - acc: 0.8017 - val_loss: 0.3519 - val_acc: 0.9020\n",
      "Epoch:  290\n",
      "Epoch 1/1\n",
      "7/6 [==============================] - 82s 12s/step - loss: 0.5671 - acc: 0.7911 - val_loss: 0.3983 - val_acc: 0.8693\n",
      "Epoch:  291\n",
      "Epoch 1/1\n",
      "7/6 [==============================] - 82s 12s/step - loss: 0.5153 - acc: 0.8101 - val_loss: 0.4396 - val_acc: 0.8764\n",
      "Epoch:  292\n",
      "Epoch 1/1\n",
      "7/6 [==============================] - 83s 12s/step - loss: 0.5746 - acc: 0.7617 - val_loss: 0.4803 - val_acc: 0.8977\n",
      "Epoch:  293\n",
      "Epoch 1/1\n",
      "7/6 [==============================] - 81s 12s/step - loss: 0.4503 - acc: 0.8269 - val_loss: 0.4074 - val_acc: 0.8892\n",
      "Epoch:  294\n",
      "Epoch 1/1\n",
      "7/6 [==============================] - 82s 12s/step - loss: 0.4368 - acc: 0.8350 - val_loss: 0.3362 - val_acc: 0.8821\n",
      "Epoch:  295\n",
      "Epoch 1/1\n",
      "7/6 [==============================] - 84s 12s/step - loss: 0.5696 - acc: 0.7788 - val_loss: 0.4023 - val_acc: 0.8793\n",
      "Epoch:  296\n",
      "Epoch 1/1\n",
      "7/6 [==============================] - 82s 12s/step - loss: 0.4879 - acc: 0.8210 - val_loss: 0.4784 - val_acc: 0.8665\n",
      "Epoch:  297\n",
      "Epoch 1/1\n",
      "7/6 [==============================] - 84s 12s/step - loss: 0.5488 - acc: 0.7891 - val_loss: 0.3670 - val_acc: 0.8864\n",
      "Epoch:  298\n",
      "Epoch 1/1\n",
      "7/6 [==============================] - 83s 12s/step - loss: 0.4681 - acc: 0.8057 - val_loss: 0.3531 - val_acc: 0.8821\n",
      "Epoch:  299\n",
      "Epoch 1/1\n",
      "7/6 [==============================] - 82s 12s/step - loss: 0.4867 - acc: 0.8110 - val_loss: 0.3466 - val_acc: 0.9205\n",
      "Epoch:  300\n",
      "Epoch 1/1\n",
      "7/6 [==============================] - 83s 12s/step - loss: 0.5285 - acc: 0.8224 - val_loss: 0.3999 - val_acc: 0.9176\n"
     ]
    },
    {
     "data": {
      "text/plain": "<tensorflow.python.keras.callbacks.History at 0x1e88875e9b0>"
     },
     "execution_count": 35,
     "metadata": {},
     "output_type": "execute_result"
    }
   ],
   "source": [
    "sv.train(max_epoch=300)"
   ],
   "metadata": {
    "collapsed": false,
    "ExecuteTime": {
     "end_time": "2024-09-27T13:27:22.004752700Z",
     "start_time": "2024-09-27T12:17:19.232537500Z"
    }
   },
   "id": "9c5d2fe8b9120d34"
  },
  {
   "cell_type": "markdown",
   "source": [
    "Metrics"
   ],
   "metadata": {
    "collapsed": false
   },
   "id": "7abb54bd62ff1fd9"
  },
  {
   "cell_type": "code",
   "execution_count": 2,
   "outputs": [
    {
     "name": "stdout",
     "output_type": "stream",
     "text": [
      "[1.0, 1.0, 1.0, 1.0, 1.0, 1.0, 1.0, 1.0, 1.0, 1.0, 1.0, 1.0, 1.0, 1.0, 1.0, 1.0, 1.0, 1.0, 1.0, 1.0, 1.0, 1.0, 1.0, 1.0, 1.0, 1.0, 1.0, 1.0, 1.0, 1.0, 1.0, 1.0, 1.0, 0.9827586206896551, 0.9827586206896551, 0.9827586206896551, 0.9655172413793104, 0.9482758620689654, 0.9310344827586207, 0.896551724137931, 0.8793103448275862, 0.8275862068965517, 0.7758620689655173, 0.7068965517241379, 0.6379310344827586, 0.5689655172413793, 0.5000000000000001, 0.4482758620689655, 0.3620689655172414, 0.31034482758620685, 0.27586206896551724, 0.25862068965517243, 0.20689655172413793, 0.20689655172413793, 0.18965517241379312, 0.15517241379310343, 0.13793103448275862, 0.08620689655172414, 0.05172413793103448, 0.05172413793103448, 0.05172413793103448, 0.05172413793103448, 0.05172413793103448, 0.05172413793103448, 0.05172413793103448, 0.017241379310344827, 0.017241379310344827, 0.017241379310344827, 0.017241379310344827, 0.017241379310344827, 0.017241379310344827, 0.017241379310344827, 0.017241379310344827, 0.0, 0.0, 0.0, 0.0, 0.0, 0.0, 0.0, 0.0, 0.0, 0.0, 0.0, 0.0, 0.0, 0.0, 0.0, 0.0, 0.0, 0.0, 0.0, 0.0, 0.0, 0.0, 0.0, 0.0, 0.0, 0.0, 0.0]\n",
      "[0.0, 0.0, 0.0, 0.0, 0.0, 0.0, 0.0, 0.0, 0.0, 0.0, 0.0, 0.0, 0.0, 0.0, 0.0, 0.0, 0.0, 0.0, 0.0, 0.0, 0.0, 0.0, 0.0, 0.0, 0.0, 0.0, 0.0, 0.0, 0.0, 0.0, 0.0, 0.0, 0.0, 0.0, 0.0, 0.0016366612111293427, 0.0049099836333879, 0.008183306055646457, 0.011456628477905016, 0.013093289689034358, 0.021276595744680816, 0.026186579378068717, 0.0343698854337153, 0.040916530278232416, 0.05564648117839599, 0.06546644844517178, 0.0752864157119476, 0.08183306055646483, 0.0949263502454992, 0.10310965630114564, 0.11783960720130934, 0.13420621931260227, 0.1505728314238953, 0.16530278232405887, 0.18003273322422259, 0.19967266775777406, 0.20949263502454998, 0.2225859247135842, 0.2422258592471357, 0.2602291325695582, 0.27823240589198034, 0.28968903436988536, 0.30441898527004907, 0.3207855973813421, 0.337152209492635, 0.3567921440261866, 0.3666121112929624, 0.381342062193126, 0.40098199672667756, 0.41571194762684127, 0.42880523731587566, 0.44189852700491, 0.45990180032733213, 0.47954173486088375, 0.5073649754500817, 0.5351882160392798, 0.5515548281505728, 0.5728314238952537, 0.5810147299509002, 0.6006546644844518, 0.6170212765957447, 0.6432078559738134, 0.6693944353518821, 0.6857610474631751, 0.6972176759410802, 0.7119476268412437, 0.7381342062193126, 0.7528641571194763, 0.7643207855973813, 0.7855973813420621, 0.8085106382978723, 0.8265139116202946, 0.8412438625204582, 0.8625204582651391, 0.8870703764320785, 0.9083469721767594, 0.9378068739770866, 0.9590834697217676, 0.9819967266775778, 1.0]\n",
      "1.0   0.0\n",
      "1.0   0.0\n",
      "1.0   0.0\n",
      "1.0   0.0\n",
      "1.0   0.0\n",
      "1.0   0.0\n",
      "1.0   0.0\n",
      "1.0   0.0\n",
      "1.0   0.0\n",
      "1.0   0.0\n",
      "1.0   0.0\n",
      "1.0   0.0\n",
      "1.0   0.0\n",
      "1.0   0.0\n",
      "1.0   0.0\n",
      "1.0   0.0\n",
      "1.0   0.0\n",
      "1.0   0.0\n",
      "1.0   0.0\n",
      "1.0   0.0\n",
      "1.0   0.0\n",
      "1.0   0.0\n",
      "1.0   0.0\n",
      "1.0   0.0\n",
      "1.0   0.0\n",
      "1.0   0.0\n",
      "1.0   0.0\n",
      "1.0   0.0\n",
      "1.0   0.0\n",
      "1.0   0.0\n",
      "1.0   0.0\n",
      "1.0   0.0\n",
      "1.0   0.0\n",
      "0.9827586206896551   0.0\n",
      "0.9827586206896551   0.0\n",
      "0.9827586206896551   0.0016366612111293427\n",
      "0.9655172413793104   0.0049099836333879\n",
      "0.9482758620689654   0.008183306055646457\n",
      "0.9310344827586207   0.011456628477905016\n",
      "0.896551724137931   0.013093289689034358\n",
      "0.8793103448275862   0.021276595744680816\n",
      "0.8275862068965517   0.026186579378068717\n",
      "0.7758620689655173   0.0343698854337153\n",
      "0.7068965517241379   0.040916530278232416\n",
      "0.6379310344827586   0.05564648117839599\n",
      "0.5689655172413793   0.06546644844517178\n",
      "0.5000000000000001   0.0752864157119476\n",
      "0.4482758620689655   0.08183306055646483\n",
      "0.3620689655172414   0.0949263502454992\n",
      "0.31034482758620685   0.10310965630114564\n",
      "0.27586206896551724   0.11783960720130934\n",
      "0.25862068965517243   0.13420621931260227\n",
      "0.20689655172413793   0.1505728314238953\n",
      "0.20689655172413793   0.16530278232405887\n",
      "0.18965517241379312   0.18003273322422259\n",
      "i 54 - 0.18965517241379312 = 0.18003273322422259\n",
      "0.15517241379310343   0.19967266775777406\n",
      "0.13793103448275862   0.20949263502454998\n",
      "0.08620689655172414   0.2225859247135842\n",
      "0.05172413793103448   0.2422258592471357\n",
      "0.05172413793103448   0.2602291325695582\n",
      "0.05172413793103448   0.27823240589198034\n",
      "0.05172413793103448   0.28968903436988536\n",
      "0.05172413793103448   0.30441898527004907\n",
      "0.05172413793103448   0.3207855973813421\n",
      "0.05172413793103448   0.337152209492635\n",
      "0.017241379310344827   0.3567921440261866\n",
      "0.017241379310344827   0.3666121112929624\n",
      "0.017241379310344827   0.381342062193126\n",
      "0.017241379310344827   0.40098199672667756\n",
      "0.017241379310344827   0.41571194762684127\n",
      "0.017241379310344827   0.42880523731587566\n",
      "0.017241379310344827   0.44189852700491\n",
      "0.017241379310344827   0.45990180032733213\n",
      "0.0   0.47954173486088375\n",
      "0.0   0.5073649754500817\n",
      "0.0   0.5351882160392798\n",
      "0.0   0.5515548281505728\n",
      "0.0   0.5728314238952537\n",
      "0.0   0.5810147299509002\n",
      "0.0   0.6006546644844518\n",
      "0.0   0.6170212765957447\n",
      "0.0   0.6432078559738134\n",
      "0.0   0.6693944353518821\n",
      "0.0   0.6857610474631751\n",
      "0.0   0.6972176759410802\n",
      "0.0   0.7119476268412437\n",
      "0.0   0.7381342062193126\n",
      "0.0   0.7528641571194763\n",
      "0.0   0.7643207855973813\n",
      "0.0   0.7855973813420621\n",
      "0.0   0.8085106382978723\n",
      "0.0   0.8265139116202946\n",
      "0.0   0.8412438625204582\n",
      "0.0   0.8625204582651391\n",
      "0.0   0.8870703764320785\n",
      "0.0   0.9083469721767594\n",
      "0.0   0.9378068739770866\n",
      "0.0   0.9590834697217676\n",
      "0.0   0.9819967266775778\n",
      "0.0   1.0\n",
      "EER:  0.18003273322422259 , 0.18965517241379312\n"
     ]
    },
    {
     "data": {
      "text/plain": "<Figure size 432x288 with 1 Axes>",
      "image/png": "[encoded data removed]"
     },
     "metadata": {
      "needs_background": "light"
     },
     "output_type": "display_data"
    },
    {
     "name": "stdout",
     "output_type": "stream",
     "text": [
      "[[166   2   0   8]\n",
      " [  1 172   1   2]\n",
      " [  0   0 159  17]\n",
      " [ 11   4  12 149]]\n",
      "          Very Low  Low  Medium  High\n",
      "Very Low       149    4      12    11\n",
      "Low              2  172       1     1\n",
      "Medium          17    0     159     0\n",
      "High             8    2       0   166\n"
     ]
    },
    {
     "data": {
      "text/plain": "array([[166,   2,   0,   8],\n       [  1, 172,   1,   2],\n       [  0,   0, 159,  17],\n       [ 11,   4,  12, 149]], dtype=int64)"
     },
     "execution_count": 2,
     "metadata": {},
     "output_type": "execute_result"
    },
    {
     "data": {
      "text/plain": "<Figure size 360x288 with 2 Axes>",
      "image/png": "[encoded data removed]"
     },
     "metadata": {
      "needs_background": "light"
     },
     "output_type": "display_data"
    }
   ],
   "source": [
    "sv.det_curve()\n",
    "sv.create_Confusion_Matrix()"
   ],
   "metadata": {
    "collapsed": false,
    "ExecuteTime": {
     "end_time": "2024-10-01T22:38:18.551857500Z",
     "start_time": "2024-10-01T22:36:46.604796900Z"
    }
   },
   "id": "37911f45ccae5216"
  },
  {
   "cell_type": "code",
   "execution_count": 2,
   "outputs": [
    {
     "name": "stdout",
     "output_type": "stream",
     "text": [
      "1.0   0.0\n",
      "1.0   0.0\n",
      "1.0   0.0\n",
      "1.0   0.0\n",
      "1.0   0.0\n",
      "1.0   0.0\n",
      "1.0   0.0\n",
      "1.0   0.0\n",
      "1.0   0.0\n",
      "1.0   0.0\n",
      "1.0   0.0\n",
      "1.0   0.0\n",
      "1.0   0.0\n",
      "1.0   0.0\n",
      "1.0   0.0\n",
      "1.0   0.0\n",
      "1.0   0.0\n",
      "1.0   0.0\n",
      "1.0   0.0\n",
      "1.0   0.0\n",
      "1.0   0.0\n",
      "1.0   0.0\n",
      "1.0   0.0\n",
      "1.0   0.0\n",
      "1.0   0.0\n",
      "1.0   0.0\n",
      "1.0   0.0\n",
      "1.0   0.0\n",
      "1.0   0.0\n",
      "1.0   0.0\n",
      "1.0   0.0\n",
      "1.0   0.0\n",
      "1.0   0.0\n",
      "0.9827586206896551   0.0\n",
      "0.9827586206896551   0.0\n",
      "0.9827586206896551   0.0016366612111293427\n",
      "0.9655172413793104   0.0049099836333879\n",
      "0.9482758620689654   0.008183306055646457\n",
      "0.9310344827586207   0.011456628477905016\n",
      "0.896551724137931   0.013093289689034358\n",
      "0.8793103448275862   0.021276595744680816\n",
      "0.8275862068965517   0.026186579378068717\n",
      "0.7758620689655173   0.0343698854337153\n",
      "0.7068965517241379   0.040916530278232416\n",
      "0.6379310344827586   0.05564648117839599\n",
      "0.5689655172413793   0.06546644844517178\n",
      "0.5000000000000001   0.0752864157119476\n",
      "0.4482758620689655   0.08183306055646483\n",
      "0.3620689655172414   0.0949263502454992\n",
      "0.31034482758620685   0.10310965630114564\n",
      "0.27586206896551724   0.11783960720130934\n",
      "0.25862068965517243   0.13420621931260227\n",
      "0.20689655172413793   0.1505728314238953\n",
      "0.20689655172413793   0.16530278232405887\n",
      "0.18965517241379312   0.18003273322422259\n",
      "i 54 - 0.18965517241379312 = 0.18003273322422259\n",
      "0.15517241379310343   0.19967266775777406\n",
      "0.13793103448275862   0.20949263502454998\n",
      "0.08620689655172414   0.2225859247135842\n",
      "0.05172413793103448   0.2422258592471357\n",
      "0.05172413793103448   0.2602291325695582\n",
      "0.05172413793103448   0.27823240589198034\n",
      "0.05172413793103448   0.28968903436988536\n",
      "0.05172413793103448   0.30441898527004907\n",
      "0.05172413793103448   0.3207855973813421\n",
      "0.05172413793103448   0.337152209492635\n",
      "0.017241379310344827   0.3567921440261866\n",
      "0.017241379310344827   0.3666121112929624\n",
      "0.017241379310344827   0.381342062193126\n",
      "0.017241379310344827   0.40098199672667756\n",
      "0.017241379310344827   0.41571194762684127\n",
      "0.017241379310344827   0.42880523731587566\n",
      "0.017241379310344827   0.44189852700491\n",
      "0.017241379310344827   0.45990180032733213\n",
      "0.0   0.47954173486088375\n",
      "0.0   0.5073649754500817\n",
      "0.0   0.5351882160392798\n",
      "0.0   0.5515548281505728\n",
      "0.0   0.5728314238952537\n",
      "0.0   0.5810147299509002\n",
      "0.0   0.6006546644844518\n",
      "0.0   0.6170212765957447\n",
      "0.0   0.6432078559738134\n",
      "0.0   0.6693944353518821\n",
      "0.0   0.6857610474631751\n",
      "0.0   0.6972176759410802\n",
      "0.0   0.7119476268412437\n",
      "0.0   0.7381342062193126\n",
      "0.0   0.7528641571194763\n",
      "0.0   0.7643207855973813\n",
      "0.0   0.7855973813420621\n",
      "0.0   0.8085106382978723\n",
      "0.0   0.8265139116202946\n",
      "0.0   0.8412438625204582\n",
      "0.0   0.8625204582651391\n",
      "0.0   0.8870703764320785\n",
      "0.0   0.9083469721767594\n",
      "0.0   0.9378068739770866\n",
      "0.0   0.9590834697217676\n",
      "0.0   0.9819967266775778\n",
      "0.0   1.0\n",
      "EER:  0.18003273322422259\n",
      "index 55\n",
      "minDCF:  0.8025523449404595\n"
     ]
    },
    {
     "data": {
      "text/plain": "<Figure size 432x288 with 1 Axes>",
      "image/png": "[encoded data removed]"
     },
     "metadata": {
      "needs_background": "light"
     },
     "output_type": "display_data"
    }
   ],
   "source": [
    "sv.det_curve()"
   ],
   "metadata": {
    "collapsed": false,
    "ExecuteTime": {
     "end_time": "2024-10-08T19:44:25.060473700Z",
     "start_time": "2024-10-08T19:43:51.891307500Z"
    }
   },
   "id": "d16d67a6c3e25c17"
  }
 ],
 "metadata": {
  "kernelspec": {
   "display_name": "Python 3",
   "language": "python",
   "name": "python3"
  },
  "language_info": {
   "codemirror_mode": {
    "name": "ipython",
    "version": 2
   },
   "file_extension": ".py",
   "mimetype": "text/x-python",
   "name": "python",
   "nbconvert_exporter": "python",
   "pygments_lexer": "ipython2",
   "version": "2.7.6"
  }
 },
 "nbformat": 4,
 "nbformat_minor": 5
}
